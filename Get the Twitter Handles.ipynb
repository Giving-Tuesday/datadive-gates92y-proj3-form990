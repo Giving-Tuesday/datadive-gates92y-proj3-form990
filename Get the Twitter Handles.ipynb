{
 "cells": [
  {
   "cell_type": "code",
   "execution_count": null,
   "metadata": {
    "collapsed": true
   },
   "outputs": [],
   "source": [
    "from bs4 import BeautifulSoup;\n",
    "import urllib2;\n",
    "import re;\n",
    "import requests;\n",
    "import csv\n",
    "import time"
   ]
  },
  {
   "cell_type": "markdown",
   "metadata": {},
   "source": [
    "# Get all of the Urls"
   ]
  },
  {
   "cell_type": "code",
   "execution_count": null,
   "metadata": {
    "collapsed": true
   },
   "outputs": [],
   "source": [
    "import pandas as pd;\n",
    "import numpy as np;\n",
    "import matplotlib.pyplot as plt;\n",
    "import grequests;"
   ]
  },
  {
   "cell_type": "code",
   "execution_count": null,
   "metadata": {},
   "outputs": [],
   "source": [
    "data = pd.DataFrame.from_csv(\"C:/R/990 form/CLEAN_DATA/Sample_Program_Service_Data.csv\")"
   ]
  },
  {
   "cell_type": "code",
   "execution_count": null,
   "metadata": {},
   "outputs": [],
   "source": [
    "data.columns"
   ]
  },
  {
   "cell_type": "code",
   "execution_count": null,
   "metadata": {},
   "outputs": [],
   "source": [
    "data.head(5)[[\"WEBSITE\", \"NAME\", \"ADDRESS\", \"ZIP\", \"URL\", \"FISYR\"]]"
   ]
  },
  {
   "cell_type": "code",
   "execution_count": null,
   "metadata": {},
   "outputs": [],
   "source": [
    "float(len(data[pd.isnull(data.WEBSITE)])) / len(data)"
   ]
  },
  {
   "cell_type": "code",
   "execution_count": null,
   "metadata": {},
   "outputs": [],
   "source": [
    "OkayWebsites = data[pd.isnull(data.WEBSITE) == False]\n",
    "OkayWebsites.head(5)[[\"WEBSITE\", \"NAME\", \"ADDRESS\", \"ZIP\", \"URL\", \"FISYR\"]]"
   ]
  },
  {
   "cell_type": "code",
   "execution_count": null,
   "metadata": {
    "collapsed": true
   },
   "outputs": [],
   "source": [
    "def exception_handler(request, exception):\n",
    "    None\n",
    "    #print \"Request failed: \" + str(request.url) + \"; Exception: \" + str(exception)"
   ]
  },
  {
   "cell_type": "code",
   "execution_count": null,
   "metadata": {
    "collapsed": true
   },
   "outputs": [],
   "source": [
    "def ProcessText(text):\n",
    "    soup = BeautifulSoup(text);\n",
    "    return map(lambda link: link.get('href'), soup.find_all('a', attrs={'href': re.compile('twitter.com')}));\n",
    "\n",
    "def ProcessRequest(requestsPerWebsite):\n",
    "    #print(requestsPerWebsite);\n",
    "    if (requestsPerWebsite[0] is not None and requestsPerWebsite[0].ok):\n",
    "        return ProcessText(requestsPerWebsite[0].text);\n",
    "    if (len(requestsPerWebsite) == 2):\n",
    "        if (requestsPerWebsite[1] is not None and requestsPerWebsite[1].ok):\n",
    "            return ProcessText(requestsPerWebsite[1].text);\n",
    "    return [];"
   ]
  },
  {
   "cell_type": "code",
   "execution_count": null,
   "metadata": {},
   "outputs": [],
   "source": [
    "hdr = {'User-Agent': 'Mozilla/5.0'}\n",
    "ishttp = re.compile('^http(s*):\\/\\/.*', flags=re.IGNORECASE)\n",
    "def QueryWebsite(website):\n",
    "    if (ishttp.match(website) is None):\n",
    "        requests = [\"http://\" + website, \"https://\" + website];\n",
    "    else:\n",
    "        requests = [ website ];\n",
    "    return list(grequests.get(u, timeout=4) for u in requests)\n",
    "\n",
    "def ProcessWebsiteBatch(websiteBatch):\n",
    "    unsentRequests = list(map(lambda x: QueryWebsite(x), websiteBatch));\n",
    "    unsentRequestLengths = list(map(lambda x: len(x), unsentRequests));\n",
    "    flattenedRequests = []\n",
    "    for unsent in unsentRequests:\n",
    "        flattenedRequests = flattenedRequests + unsent;\n",
    "    \n",
    "    print \"Flattened Requests: \" + str(len(flattenedRequests))\n",
    "    \n",
    "    reqs = grequests.map(flattenedRequests, exception_handler=exception_handler)\n",
    "    idx = 0;\n",
    "    unFlattenedResponses = []\n",
    "    for l in unsentRequestLengths:\n",
    "        unFlattenedResponses = unFlattenedResponses + [reqs[idx : idx + l]];\n",
    "        idx = idx + l;\n",
    "\n",
    "    # print \"Unflattened Requests: \" + str(len(unFlattenedResponses))\n",
    "    \n",
    "    return map(lambda x: ProcessRequest(x), unFlattenedResponses);"
   ]
  },
  {
   "cell_type": "code",
   "execution_count": null,
   "metadata": {
    "collapsed": true,
    "scrolled": true
   },
   "outputs": [],
   "source": [
    "def BatchColumnRun(df, batchSize, csvwriter, csvfile):    \n",
    "    finalNum = (len(df) / batchSize);\n",
    "    if (len(df) % batchSize <> 0):\n",
    "        finalNum = finalNum + 1\n",
    "        \n",
    "    for i in range(0, finalNum-1):\n",
    "        division = df[i*batchSize:min((i+1)*batchSize, len(df))];\n",
    "        twitterResults = ProcessWebsiteBatch(division[\"WEBSITE\"]);\n",
    "        print \"Done: \" + str(i)\n",
    "        for idx in range(0, len(division)):\n",
    "            csv_writer.writerow([division[\"EIN\"].values[idx], division[\"FISYR\"].values[idx], twitterResults[idx]])\n",
    "        print \"Done: \" + str(i * batchSize)\n",
    "        csvfile.flush()"
   ]
  },
  {
   "cell_type": "code",
   "execution_count": null,
   "metadata": {},
   "outputs": [],
   "source": [
    "with open('TwitterHandleOutput.csv', 'w') as csvfile:\n",
    "    csv_writer = csv.writer(csvfile, delimiter=':::');\n",
    "    # Write the header\n",
    "    csv_writer.writerow([\"EIN\", \"FISYR\", \"TWITTERHANDLE\"]);\n",
    "    BatchColumnRun(OkayWebsites, 25, csv_writer, csvfile)\n",
    "    csvfile.close()"
   ]
  },
  {
   "cell_type": "code",
   "execution_count": null,
   "metadata": {
    "collapsed": true
   },
   "outputs": [],
   "source": []
  }
 ],
 "metadata": {
  "kernelspec": {
   "display_name": "Python 2",
   "language": "python",
   "name": "python2"
  },
  "language_info": {
   "codemirror_mode": {
    "name": "ipython",
    "version": 2
   },
   "file_extension": ".py",
   "mimetype": "text/x-python",
   "name": "python",
   "nbconvert_exporter": "python",
   "pygments_lexer": "ipython2",
   "version": "2.7.13"
  }
 },
 "nbformat": 4,
 "nbformat_minor": 2
}
