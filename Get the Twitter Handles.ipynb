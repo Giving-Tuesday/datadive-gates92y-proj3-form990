{
 "cells": [
  {
   "cell_type": "code",
   "execution_count": 45,
   "metadata": {
    "collapsed": true
   },
   "outputs": [],
   "source": [
    "from bs4 import BeautifulSoup;\n",
    "import urllib2;\n",
    "import re;\n",
    "import requests;"
   ]
  },
  {
   "cell_type": "markdown",
   "metadata": {},
   "source": [
    "# Get all of the Urls"
   ]
  },
  {
   "cell_type": "code",
   "execution_count": 46,
   "metadata": {
    "collapsed": true
   },
   "outputs": [],
   "source": [
    "import pandas as pd;\n",
    "import numpy as np;\n",
    "import matplotlib.pyplot as plt;\n",
    "import grequests;"
   ]
  },
  {
   "cell_type": "code",
   "execution_count": 47,
   "metadata": {},
   "outputs": [],
   "source": [
    "data = pd.DataFrame.from_csv(\"C:/R/990 form/CLEAN_DATA/Sample_Program_Service_Data.csv\")"
   ]
  },
  {
   "cell_type": "code",
   "execution_count": 48,
   "metadata": {},
   "outputs": [
    {
     "data": {
      "text/plain": [
       "Index([u'EIN', u'GROSSRECEIPTS', u'TOTEMPLOYEE', u'TOTVOLUNTEERS', u'CITY',\n",
       "       u'STATE', u'FISYR', u'TOTALPROGSERVEXP', u'FORMTYPE', u'FORMYEAR',\n",
       "       u'NAME', u'DBA', u'ADDRESS', u'ZIP', u'WEBSITE', u'URL', u'NteeFinal',\n",
       "       u'MISSION', u'DISCOPS', u'CONTRIBCURRENT', u'PSRCURRENT',\n",
       "       u'INVINCCURRENT', u'OTHERREVCURRENT', u'TOTALREVCURRENT', u'MEMBERDUES',\n",
       "       u'GROSSSALESOTHER', u'SALESCOSTOTHER', u'NETSALESOTHER',\n",
       "       u'GROSSINCGAMING', u'GROSSINCFNDEVENTS', u'NETSALESINV',\n",
       "       u'GRANTSPAIDCURRENT', u'MEMBERBENCURRENT', u'SALARIESCURRENT',\n",
       "       u'TOTALEXPCURRENT', u'REVLESSEXPCURRENT', u'TOTALASSETSBEGYEAR',\n",
       "       u'TOTALASSETSENDYEAR', u'TOTALLIABBEGYEAR', u'TOTALLIABENDYEAR',\n",
       "       u'NETASSETSBEGYEAR', u'OTHERASSETSCHANGES', u'NETASSETSENDYEAR',\n",
       "       u'CASHINVBEGYEAR', u'CASHINVENDYEAR', u'LANDBEGYEAR', u'LANDENDYEAR',\n",
       "       u'OTHERASSETSBEGYEAR', u'OTHERASSETSENDYEAR', u'LOBBYING', u'proj1Desc',\n",
       "       u'proj1ExpAmt', u'proj1GrantAmt', u'proj2Desc', u'proj2ExpAmt',\n",
       "       u'proj2GrantAmt', u'proj3Desc', u'proj3ExpAmt', u'proj3GrantAmt'],\n",
       "      dtype='object')"
      ]
     },
     "execution_count": 48,
     "metadata": {},
     "output_type": "execute_result"
    }
   ],
   "source": [
    "data.columns"
   ]
  },
  {
   "cell_type": "code",
   "execution_count": 49,
   "metadata": {},
   "outputs": [
    {
     "data": {
      "text/html": [
       "<div>\n",
       "<style>\n",
       "    .dataframe thead tr:only-child th {\n",
       "        text-align: right;\n",
       "    }\n",
       "\n",
       "    .dataframe thead th {\n",
       "        text-align: left;\n",
       "    }\n",
       "\n",
       "    .dataframe tbody tr th {\n",
       "        vertical-align: top;\n",
       "    }\n",
       "</style>\n",
       "<table border=\"1\" class=\"dataframe\">\n",
       "  <thead>\n",
       "    <tr style=\"text-align: right;\">\n",
       "      <th></th>\n",
       "      <th>WEBSITE</th>\n",
       "      <th>NAME</th>\n",
       "      <th>ADDRESS</th>\n",
       "      <th>ZIP</th>\n",
       "      <th>URL</th>\n",
       "      <th>FISYR</th>\n",
       "    </tr>\n",
       "  </thead>\n",
       "  <tbody>\n",
       "    <tr>\n",
       "      <th>1</th>\n",
       "      <td>WWW.ROCHESTERBIZ.COM</td>\n",
       "      <td>GREATER ROCHESTER ENTERPRISE</td>\n",
       "      <td>100 CHESTNUT ONE HSBC PLAZA NO 1910</td>\n",
       "      <td>14604</td>\n",
       "      <td>https://s3.amazonaws.com/irs-form-990/20161124...</td>\n",
       "      <td>2015</td>\n",
       "    </tr>\n",
       "    <tr>\n",
       "      <th>2</th>\n",
       "      <td>WWW.LJBI.ORG</td>\n",
       "      <td>LA JOLLA BIOENGINEERING INSTITUTE</td>\n",
       "      <td>505 COAST BOULEVARD SOUTH</td>\n",
       "      <td>92037</td>\n",
       "      <td>https://s3.amazonaws.com/irs-form-990/20153349...</td>\n",
       "      <td>2014</td>\n",
       "    </tr>\n",
       "    <tr>\n",
       "      <th>3</th>\n",
       "      <td>NaN</td>\n",
       "      <td>ACTS COMMUNITY DEVELOPMENT</td>\n",
       "      <td>1034 66TH AVENUE</td>\n",
       "      <td>94621</td>\n",
       "      <td>https://s3.amazonaws.com/irs-form-990/20151313...</td>\n",
       "      <td>2014</td>\n",
       "    </tr>\n",
       "    <tr>\n",
       "      <th>4</th>\n",
       "      <td>NaN</td>\n",
       "      <td>AMERICAN AMISTAD FOUNDATION INC</td>\n",
       "      <td>733 SHINAVA DRIVE</td>\n",
       "      <td>84738</td>\n",
       "      <td>https://s3.amazonaws.com/irs-form-990/20151288...</td>\n",
       "      <td>2014</td>\n",
       "    </tr>\n",
       "    <tr>\n",
       "      <th>5</th>\n",
       "      <td>WWW.CASTLA.ORG</td>\n",
       "      <td>COALITION TO ABOLISH SLAVERY AND TRAFFICKING</td>\n",
       "      <td>5042 WILSHIRE BLVD NO 586</td>\n",
       "      <td>90036</td>\n",
       "      <td>https://s3.amazonaws.com/irs-form-990/20160137...</td>\n",
       "      <td>2014</td>\n",
       "    </tr>\n",
       "  </tbody>\n",
       "</table>\n",
       "</div>"
      ],
      "text/plain": [
       "                WEBSITE                                          NAME  \\\n",
       "1  WWW.ROCHESTERBIZ.COM                  GREATER ROCHESTER ENTERPRISE   \n",
       "2          WWW.LJBI.ORG             LA JOLLA BIOENGINEERING INSTITUTE   \n",
       "3                   NaN                    ACTS COMMUNITY DEVELOPMENT   \n",
       "4                   NaN               AMERICAN AMISTAD FOUNDATION INC   \n",
       "5        WWW.CASTLA.ORG  COALITION TO ABOLISH SLAVERY AND TRAFFICKING   \n",
       "\n",
       "                               ADDRESS    ZIP  \\\n",
       "1  100 CHESTNUT ONE HSBC PLAZA NO 1910  14604   \n",
       "2            505 COAST BOULEVARD SOUTH  92037   \n",
       "3                     1034 66TH AVENUE  94621   \n",
       "4                    733 SHINAVA DRIVE  84738   \n",
       "5            5042 WILSHIRE BLVD NO 586  90036   \n",
       "\n",
       "                                                 URL  FISYR  \n",
       "1  https://s3.amazonaws.com/irs-form-990/20161124...   2015  \n",
       "2  https://s3.amazonaws.com/irs-form-990/20153349...   2014  \n",
       "3  https://s3.amazonaws.com/irs-form-990/20151313...   2014  \n",
       "4  https://s3.amazonaws.com/irs-form-990/20151288...   2014  \n",
       "5  https://s3.amazonaws.com/irs-form-990/20160137...   2014  "
      ]
     },
     "execution_count": 49,
     "metadata": {},
     "output_type": "execute_result"
    }
   ],
   "source": [
    "data.head(5)[[\"WEBSITE\", \"NAME\", \"ADDRESS\", \"ZIP\", \"URL\", \"FISYR\"]]"
   ]
  },
  {
   "cell_type": "code",
   "execution_count": 50,
   "metadata": {},
   "outputs": [
    {
     "data": {
      "text/plain": [
       "0.2961174153615305"
      ]
     },
     "execution_count": 50,
     "metadata": {},
     "output_type": "execute_result"
    }
   ],
   "source": [
    "float(len(data[pd.isnull(data.WEBSITE)])) / len(data)"
   ]
  },
  {
   "cell_type": "code",
   "execution_count": 51,
   "metadata": {},
   "outputs": [
    {
     "data": {
      "text/html": [
       "<div>\n",
       "<style>\n",
       "    .dataframe thead tr:only-child th {\n",
       "        text-align: right;\n",
       "    }\n",
       "\n",
       "    .dataframe thead th {\n",
       "        text-align: left;\n",
       "    }\n",
       "\n",
       "    .dataframe tbody tr th {\n",
       "        vertical-align: top;\n",
       "    }\n",
       "</style>\n",
       "<table border=\"1\" class=\"dataframe\">\n",
       "  <thead>\n",
       "    <tr style=\"text-align: right;\">\n",
       "      <th></th>\n",
       "      <th>WEBSITE</th>\n",
       "      <th>NAME</th>\n",
       "      <th>ADDRESS</th>\n",
       "      <th>ZIP</th>\n",
       "      <th>URL</th>\n",
       "      <th>FISYR</th>\n",
       "    </tr>\n",
       "  </thead>\n",
       "  <tbody>\n",
       "    <tr>\n",
       "      <th>1</th>\n",
       "      <td>WWW.ROCHESTERBIZ.COM</td>\n",
       "      <td>GREATER ROCHESTER ENTERPRISE</td>\n",
       "      <td>100 CHESTNUT ONE HSBC PLAZA NO 1910</td>\n",
       "      <td>14604</td>\n",
       "      <td>https://s3.amazonaws.com/irs-form-990/20161124...</td>\n",
       "      <td>2015</td>\n",
       "    </tr>\n",
       "    <tr>\n",
       "      <th>2</th>\n",
       "      <td>WWW.LJBI.ORG</td>\n",
       "      <td>LA JOLLA BIOENGINEERING INSTITUTE</td>\n",
       "      <td>505 COAST BOULEVARD SOUTH</td>\n",
       "      <td>92037</td>\n",
       "      <td>https://s3.amazonaws.com/irs-form-990/20153349...</td>\n",
       "      <td>2014</td>\n",
       "    </tr>\n",
       "    <tr>\n",
       "      <th>5</th>\n",
       "      <td>WWW.CASTLA.ORG</td>\n",
       "      <td>COALITION TO ABOLISH SLAVERY AND TRAFFICKING</td>\n",
       "      <td>5042 WILSHIRE BLVD NO 586</td>\n",
       "      <td>90036</td>\n",
       "      <td>https://s3.amazonaws.com/irs-form-990/20160137...</td>\n",
       "      <td>2014</td>\n",
       "    </tr>\n",
       "    <tr>\n",
       "      <th>6</th>\n",
       "      <td>HTTP://WALKRUNFORLIFE.COM/</td>\n",
       "      <td>ST LAWRENCE COUNTY CANCER FUND INC</td>\n",
       "      <td>PO BOX 291</td>\n",
       "      <td>13617</td>\n",
       "      <td>https://s3.amazonaws.com/irs-form-990/20164132...</td>\n",
       "      <td>2015</td>\n",
       "    </tr>\n",
       "    <tr>\n",
       "      <th>7</th>\n",
       "      <td>WWW.BRIDGTONHOSPITAL.ORG</td>\n",
       "      <td>BRIDGTON HOSPITAL</td>\n",
       "      <td>29 LOWELL STREET BOX A</td>\n",
       "      <td>4240</td>\n",
       "      <td>https://s3.amazonaws.com/irs-form-990/20160133...</td>\n",
       "      <td>2014</td>\n",
       "    </tr>\n",
       "  </tbody>\n",
       "</table>\n",
       "</div>"
      ],
      "text/plain": [
       "                      WEBSITE                                          NAME  \\\n",
       "1        WWW.ROCHESTERBIZ.COM                  GREATER ROCHESTER ENTERPRISE   \n",
       "2                WWW.LJBI.ORG             LA JOLLA BIOENGINEERING INSTITUTE   \n",
       "5              WWW.CASTLA.ORG  COALITION TO ABOLISH SLAVERY AND TRAFFICKING   \n",
       "6  HTTP://WALKRUNFORLIFE.COM/            ST LAWRENCE COUNTY CANCER FUND INC   \n",
       "7    WWW.BRIDGTONHOSPITAL.ORG                             BRIDGTON HOSPITAL   \n",
       "\n",
       "                               ADDRESS    ZIP  \\\n",
       "1  100 CHESTNUT ONE HSBC PLAZA NO 1910  14604   \n",
       "2            505 COAST BOULEVARD SOUTH  92037   \n",
       "5            5042 WILSHIRE BLVD NO 586  90036   \n",
       "6                           PO BOX 291  13617   \n",
       "7               29 LOWELL STREET BOX A   4240   \n",
       "\n",
       "                                                 URL  FISYR  \n",
       "1  https://s3.amazonaws.com/irs-form-990/20161124...   2015  \n",
       "2  https://s3.amazonaws.com/irs-form-990/20153349...   2014  \n",
       "5  https://s3.amazonaws.com/irs-form-990/20160137...   2014  \n",
       "6  https://s3.amazonaws.com/irs-form-990/20164132...   2015  \n",
       "7  https://s3.amazonaws.com/irs-form-990/20160133...   2014  "
      ]
     },
     "execution_count": 51,
     "metadata": {},
     "output_type": "execute_result"
    }
   ],
   "source": [
    "OkayWebsites = data[pd.isnull(data.WEBSITE) == False]\n",
    "OkayWebsites.head(5)[[\"WEBSITE\", \"NAME\", \"ADDRESS\", \"ZIP\", \"URL\", \"FISYR\"]]"
   ]
  },
  {
   "cell_type": "code",
   "execution_count": 52,
   "metadata": {
    "collapsed": true
   },
   "outputs": [],
   "source": [
    "def exception_handler(request, exception):\n",
    "    None\n",
    "    #print \"Request failed: \" + str(request.url) + \"; Exception: \" + str(exception)"
   ]
  },
  {
   "cell_type": "code",
   "execution_count": 53,
   "metadata": {
    "collapsed": true
   },
   "outputs": [],
   "source": [
    "def ProcessText(text):\n",
    "    soup = BeautifulSoup(text);\n",
    "    return map(lambda link: link.get('href'), soup.find_all('a', attrs={'href': re.compile('twitter.com')}));\n",
    "\n",
    "def ProcessRequest(requestsPerWebsite):\n",
    "    #print(requestsPerWebsite);\n",
    "    if (requestsPerWebsite[0] is not None and requestsPerWebsite[0].ok):\n",
    "        return ProcessText(requestsPerWebsite[0].text);\n",
    "    if (len(requestsPerWebsite) == 2):\n",
    "        if (requestsPerWebsite[1] is not None and requestsPerWebsite[1].ok):\n",
    "            return ProcessText(requestsPerWebsite[1].text);\n",
    "    return [];"
   ]
  },
  {
   "cell_type": "code",
   "execution_count": 54,
   "metadata": {},
   "outputs": [],
   "source": [
    "hdr = {'User-Agent': 'Mozilla/5.0'}\n",
    "ishttp = re.compile('^http(s*):\\/\\/.*', flags=re.IGNORECASE)\n",
    "def QueryWebsite(website):\n",
    "    if (ishttp.match(website) is None):\n",
    "        requests = [\"http://\" + website, \"https://\" + website];\n",
    "    else:\n",
    "        requests = [ website ];\n",
    "    return list(grequests.get(u, timeout=4) for u in requests)\n",
    "\n",
    "def ProcessWebsiteBatch(websiteBatch):\n",
    "    unsentRequests = list(map(lambda x: QueryWebsite(x), websiteBatch));\n",
    "    unsentRequestLengths = list(map(lambda x: len(x), unsentRequests));\n",
    "    flattenedRequests = []\n",
    "    for unsent in unsentRequests:\n",
    "        flattenedRequests = flattenedRequests + unsent;\n",
    "    \n",
    "    print \"Flattened Requests: \" + str(len(flattenedRequests))\n",
    "    \n",
    "    reqs = grequests.map(flattenedRequests, exception_handler=exception_handler)\n",
    "    idx = 0;\n",
    "    unFlattenedResponses = []\n",
    "    for l in unsentRequestLengths:\n",
    "        unFlattenedResponses = unFlattenedResponses + [reqs[idx : idx + l]];\n",
    "        idx = idx + l;\n",
    "\n",
    "    # print \"Unflattened Requests: \" + str(len(unFlattenedResponses))\n",
    "    \n",
    "    return map(lambda x: ProcessRequest(x), unFlattenedResponses);"
   ]
  },
  {
   "cell_type": "code",
   "execution_count": 55,
   "metadata": {
    "collapsed": true,
    "scrolled": true
   },
   "outputs": [],
   "source": [
    "def BatchColumnRun(column, batchSize):    \n",
    "    goodWebsites = column;\n",
    "    finalResult = [];\n",
    "    finalNum = (len(goodWebsites) / batchSize);\n",
    "    if (len(goodWebsites) % batchSize <> 0):\n",
    "        finalNum = finalNum + 1\n",
    "    for i in range(0, finalNum):\n",
    "        division = goodWebsites[i*batchSize:min((i+1)*batchSize, len(goodWebsites))];\n",
    "        twitterResults = ProcessWebsiteBatch(division);\n",
    "        finalResult = finalResult + twitterResults\n",
    "        print \"Done: \" + str(i)\n",
    "    return finalResult;"
   ]
  },
  {
   "cell_type": "code",
   "execution_count": null,
   "metadata": {},
   "outputs": [
    {
     "name": "stdout",
     "output_type": "stream",
     "text": [
      "Flattened Requests: 47\n",
      "Done: 0\n",
      "Flattened Requests: 50\n",
      "Done: 1\n",
      "Flattened Requests: 49\n",
      "Done: 2\n",
      "Flattened Requests: 48\n",
      "Done: 3\n",
      "Flattened Requests: 49\n",
      "Done: 4\n",
      "Flattened Requests: 48\n",
      "Done: 5\n",
      "Flattened Requests: 48\n",
      "Done: 6\n",
      "Flattened Requests: 49\n",
      "Done: 7\n",
      "Flattened Requests: 49\n"
     ]
    }
   ],
   "source": [
    "OkayWebsites['TwitterHandles'] = BatchColumnRun(OkayWebsites['WEBSITE'], 25)"
   ]
  },
  {
   "cell_type": "code",
   "execution_count": null,
   "metadata": {
    "collapsed": true
   },
   "outputs": [],
   "source": [
    "OkayWebsites[[\"EIN\", \"TwitterHandles\", \"FISYR\"]].to_csv(\"TwitterHandleData.csv\")"
   ]
  },
  {
   "cell_type": "code",
   "execution_count": null,
   "metadata": {
    "collapsed": true
   },
   "outputs": [],
   "source": []
  }
 ],
 "metadata": {
  "kernelspec": {
   "display_name": "Python 2",
   "language": "python",
   "name": "python2"
  },
  "language_info": {
   "codemirror_mode": {
    "name": "ipython",
    "version": 2
   },
   "file_extension": ".py",
   "mimetype": "text/x-python",
   "name": "python",
   "nbconvert_exporter": "python",
   "pygments_lexer": "ipython2",
   "version": "2.7.13"
  }
 },
 "nbformat": 4,
 "nbformat_minor": 2
}
