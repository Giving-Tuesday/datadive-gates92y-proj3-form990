{
 "cells": [
  {
   "cell_type": "code",
   "execution_count": 1,
   "metadata": {
    "collapsed": true
   },
   "outputs": [],
   "source": [
    "import pandas as pd\n",
    "import numpy as np\n",
    "import matplotlib.pyplot as plt\n",
    "import seaborn as sns\n",
    "pd.set_option('display.max_columns', None)"
   ]
  },
  {
   "cell_type": "markdown",
   "metadata": {},
   "source": [
    "# Read in data"
   ]
  },
  {
   "cell_type": "code",
   "execution_count": 2,
   "metadata": {},
   "outputs": [
    {
     "data": {
      "text/html": [
       "<div>\n",
       "<style>\n",
       "    .dataframe thead tr:only-child th {\n",
       "        text-align: right;\n",
       "    }\n",
       "\n",
       "    .dataframe thead th {\n",
       "        text-align: left;\n",
       "    }\n",
       "\n",
       "    .dataframe tbody tr th {\n",
       "        vertical-align: top;\n",
       "    }\n",
       "</style>\n",
       "<table border=\"1\" class=\"dataframe\">\n",
       "  <thead>\n",
       "    <tr style=\"text-align: right;\">\n",
       "      <th></th>\n",
       "      <th>EIN</th>\n",
       "      <th>FISYR</th>\n",
       "      <th>STATE</th>\n",
       "      <th>FORMTYPE</th>\n",
       "      <th>NteeFinal</th>\n",
       "      <th>TOTEMPLOYEE</th>\n",
       "      <th>TOTVOLUNTEERS</th>\n",
       "      <th>TOTALREVCURRENT</th>\n",
       "      <th>TOTALEXPCURRENT</th>\n",
       "      <th>REVLESSEXPCURRENT</th>\n",
       "    </tr>\n",
       "  </thead>\n",
       "  <tbody>\n",
       "    <tr>\n",
       "      <th>0</th>\n",
       "      <td>10024645</td>\n",
       "      <td>2009</td>\n",
       "      <td>ME</td>\n",
       "      <td>990</td>\n",
       "      <td>A69</td>\n",
       "      <td>3.0</td>\n",
       "      <td>32.0</td>\n",
       "      <td>568558.0</td>\n",
       "      <td>457531.0</td>\n",
       "      <td>111027.0</td>\n",
       "    </tr>\n",
       "    <tr>\n",
       "      <th>1</th>\n",
       "      <td>10078060</td>\n",
       "      <td>2009</td>\n",
       "      <td>ME</td>\n",
       "      <td>990</td>\n",
       "      <td>E22</td>\n",
       "      <td>1034.0</td>\n",
       "      <td>83.0</td>\n",
       "      <td>81381144.0</td>\n",
       "      <td>80826802.0</td>\n",
       "      <td>554342.0</td>\n",
       "    </tr>\n",
       "    <tr>\n",
       "      <th>2</th>\n",
       "      <td>10095329</td>\n",
       "      <td>2009</td>\n",
       "      <td>ME</td>\n",
       "      <td>990EZ</td>\n",
       "      <td>Y40</td>\n",
       "      <td>NaN</td>\n",
       "      <td>NaN</td>\n",
       "      <td>20333.0</td>\n",
       "      <td>34191.0</td>\n",
       "      <td>-13858.0</td>\n",
       "    </tr>\n",
       "    <tr>\n",
       "      <th>3</th>\n",
       "      <td>10095414</td>\n",
       "      <td>2009</td>\n",
       "      <td>ME</td>\n",
       "      <td>990</td>\n",
       "      <td>Y41</td>\n",
       "      <td>3.0</td>\n",
       "      <td>NaN</td>\n",
       "      <td>164706.0</td>\n",
       "      <td>234079.0</td>\n",
       "      <td>-69373.0</td>\n",
       "    </tr>\n",
       "    <tr>\n",
       "      <th>4</th>\n",
       "      <td>10130427</td>\n",
       "      <td>2009</td>\n",
       "      <td>ME</td>\n",
       "      <td>990</td>\n",
       "      <td>E22</td>\n",
       "      <td>371.0</td>\n",
       "      <td>85.0</td>\n",
       "      <td>42460089.0</td>\n",
       "      <td>39356059.0</td>\n",
       "      <td>3104030.0</td>\n",
       "    </tr>\n",
       "  </tbody>\n",
       "</table>\n",
       "</div>"
      ],
      "text/plain": [
       "        EIN  FISYR STATE FORMTYPE NteeFinal  TOTEMPLOYEE  TOTVOLUNTEERS  \\\n",
       "0  10024645   2009    ME      990       A69          3.0           32.0   \n",
       "1  10078060   2009    ME      990       E22       1034.0           83.0   \n",
       "2  10095329   2009    ME    990EZ       Y40          NaN            NaN   \n",
       "3  10095414   2009    ME      990       Y41          3.0            NaN   \n",
       "4  10130427   2009    ME      990       E22        371.0           85.0   \n",
       "\n",
       "   TOTALREVCURRENT  TOTALEXPCURRENT  REVLESSEXPCURRENT  \n",
       "0         568558.0         457531.0           111027.0  \n",
       "1       81381144.0       80826802.0           554342.0  \n",
       "2          20333.0          34191.0           -13858.0  \n",
       "3         164706.0         234079.0           -69373.0  \n",
       "4       42460089.0       39356059.0          3104030.0  "
      ]
     },
     "execution_count": 2,
     "metadata": {},
     "output_type": "execute_result"
    }
   ],
   "source": [
    "filesample = 'Sample_Program_Service_Data.csv'\n",
    "filefull = 'Full990Efile+Operational+Data+2009+to+2015.csv'\n",
    "\n",
    "#datasample = pd.read_csv(filesample, encoding='cp1252')\n",
    "\n",
    "datafull = pd.read_csv(filefull, encoding='cp1252', \n",
    "                       usecols=['EIN','STATE','FISYR','TOTALREVCURRENT','TOTALEXPCURRENT', 'FORMTYPE', 'NteeFinal',\n",
    "                               'TOTEMPLOYEE', 'TOTVOLUNTEERS', 'REVLESSEXPCURRENT'])\n",
    "datafull.head()"
   ]
  },
  {
   "cell_type": "code",
   "execution_count": 3,
   "metadata": {},
   "outputs": [
    {
     "data": {
      "text/plain": [
       "FrozenList([None])"
      ]
     },
     "execution_count": 3,
     "metadata": {},
     "output_type": "execute_result"
    }
   ],
   "source": [
    "datafull.index.names"
   ]
  },
  {
   "cell_type": "code",
   "execution_count": 4,
   "metadata": {},
   "outputs": [
    {
     "data": {
      "text/plain": [
       "(1518095, 10)"
      ]
     },
     "execution_count": 4,
     "metadata": {},
     "output_type": "execute_result"
    }
   ],
   "source": [
    "datafull.shape"
   ]
  },
  {
   "cell_type": "code",
   "execution_count": 5,
   "metadata": {},
   "outputs": [
    {
     "data": {
      "text/plain": [
       "Index(['EIN', 'FISYR', 'STATE', 'FORMTYPE', 'NteeFinal', 'TOTEMPLOYEE',\n",
       "       'TOTVOLUNTEERS', 'TOTALREVCURRENT', 'TOTALEXPCURRENT',\n",
       "       'REVLESSEXPCURRENT'],\n",
       "      dtype='object')"
      ]
     },
     "execution_count": 5,
     "metadata": {},
     "output_type": "execute_result"
    }
   ],
   "source": [
    "datafull.columns"
   ]
  },
  {
   "cell_type": "markdown",
   "metadata": {},
   "source": [
    "# Indexing"
   ]
  },
  {
   "cell_type": "markdown",
   "metadata": {},
   "source": [
    "Compute net income, obtain year-on-year index. Divide over all relevant charities in State. This ratio indicates relative volatility compared to the broad-spectrum charities on market in state.\n",
    "\n",
    "Treat missing values in PREV_NIT as NIT"
   ]
  },
  {
   "cell_type": "code",
   "execution_count": 6,
   "metadata": {},
   "outputs": [],
   "source": [
    "def get_ind_indices(curr_criteria):\n",
    "    data = datafull.query('(FISYR > 2009) & (FISYR < 2015)')\n",
    "    data = data[data.FORMTYPE=='990']\n",
    "    #data.set_index(['EIN', 'FISYR'], inplace=True)\n",
    "    #prev_criteria = data.groupby(level=0)[curr_criteria].shift(1)\n",
    "    data.set_index(['EIN',  'FISYR'], inplace=True)\n",
    "    data['PREV_'+curr_criteria] = data.groupby(level=0)[curr_criteria].shift(1)\n",
    "\n",
    "    \n",
    "    data['IND'] = data[curr_criteria]/data['PREV_'+curr_criteria]\n",
    "    data.IND.replace(np.inf, np.nan, inplace=True)\n",
    "    data.IND.replace(-1*np.inf, np.nan, inplace=True)\n",
    "    data.IND.fillna(1, inplace=True)\n",
    "    return data"
   ]
  },
  {
   "cell_type": "code",
   "execution_count": 7,
   "metadata": {},
   "outputs": [
    {
     "data": {
      "text/html": [
       "<div>\n",
       "<style>\n",
       "    .dataframe thead tr:only-child th {\n",
       "        text-align: right;\n",
       "    }\n",
       "\n",
       "    .dataframe thead th {\n",
       "        text-align: left;\n",
       "    }\n",
       "\n",
       "    .dataframe tbody tr th {\n",
       "        vertical-align: top;\n",
       "    }\n",
       "</style>\n",
       "<table border=\"1\" class=\"dataframe\">\n",
       "  <thead>\n",
       "    <tr style=\"text-align: right;\">\n",
       "      <th></th>\n",
       "      <th></th>\n",
       "      <th>STATE</th>\n",
       "      <th>FORMTYPE</th>\n",
       "      <th>NteeFinal</th>\n",
       "      <th>TOTEMPLOYEE</th>\n",
       "      <th>TOTVOLUNTEERS</th>\n",
       "      <th>TOTALREVCURRENT</th>\n",
       "      <th>TOTALEXPCURRENT</th>\n",
       "      <th>REVLESSEXPCURRENT</th>\n",
       "      <th>PREV_REVLESSEXPCURRENT</th>\n",
       "      <th>IND</th>\n",
       "    </tr>\n",
       "    <tr>\n",
       "      <th>EIN</th>\n",
       "      <th>FISYR</th>\n",
       "      <th></th>\n",
       "      <th></th>\n",
       "      <th></th>\n",
       "      <th></th>\n",
       "      <th></th>\n",
       "      <th></th>\n",
       "      <th></th>\n",
       "      <th></th>\n",
       "      <th></th>\n",
       "      <th></th>\n",
       "    </tr>\n",
       "  </thead>\n",
       "  <tbody>\n",
       "    <tr>\n",
       "      <th>10360501</th>\n",
       "      <th>2010</th>\n",
       "      <td>ME</td>\n",
       "      <td>990</td>\n",
       "      <td>F0122</td>\n",
       "      <td>0.0</td>\n",
       "      <td>0.0</td>\n",
       "      <td>41637.0</td>\n",
       "      <td>1655148.0</td>\n",
       "      <td>-1613511.0</td>\n",
       "      <td>NaN</td>\n",
       "      <td>1.0</td>\n",
       "    </tr>\n",
       "    <tr>\n",
       "      <th>10521321</th>\n",
       "      <th>2010</th>\n",
       "      <td>ME</td>\n",
       "      <td>990</td>\n",
       "      <td>P75</td>\n",
       "      <td>0.0</td>\n",
       "      <td>0.0</td>\n",
       "      <td>0.0</td>\n",
       "      <td>0.0</td>\n",
       "      <td>0.0</td>\n",
       "      <td>NaN</td>\n",
       "      <td>1.0</td>\n",
       "    </tr>\n",
       "    <tr>\n",
       "      <th>20705535</th>\n",
       "      <th>2010</th>\n",
       "      <td>MA</td>\n",
       "      <td>990</td>\n",
       "      <td>V24</td>\n",
       "      <td>5.0</td>\n",
       "      <td>0.0</td>\n",
       "      <td>490537.0</td>\n",
       "      <td>737692.0</td>\n",
       "      <td>-247155.0</td>\n",
       "      <td>NaN</td>\n",
       "      <td>1.0</td>\n",
       "    </tr>\n",
       "    <tr>\n",
       "      <th>60867533</th>\n",
       "      <th>2010</th>\n",
       "      <td>MD</td>\n",
       "      <td>990</td>\n",
       "      <td>S03</td>\n",
       "      <td>0.0</td>\n",
       "      <td>0.0</td>\n",
       "      <td>299323.0</td>\n",
       "      <td>554207.0</td>\n",
       "      <td>-254884.0</td>\n",
       "      <td>NaN</td>\n",
       "      <td>1.0</td>\n",
       "    </tr>\n",
       "    <tr>\n",
       "      <th>111773894</th>\n",
       "      <th>2010</th>\n",
       "      <td>NY</td>\n",
       "      <td>990</td>\n",
       "      <td>J40</td>\n",
       "      <td>14.0</td>\n",
       "      <td>0.0</td>\n",
       "      <td>994557.0</td>\n",
       "      <td>2050880.0</td>\n",
       "      <td>-1056323.0</td>\n",
       "      <td>NaN</td>\n",
       "      <td>1.0</td>\n",
       "    </tr>\n",
       "  </tbody>\n",
       "</table>\n",
       "</div>"
      ],
      "text/plain": [
       "                STATE FORMTYPE NteeFinal  TOTEMPLOYEE  TOTVOLUNTEERS  \\\n",
       "EIN       FISYR                                                        \n",
       "10360501  2010     ME      990     F0122          0.0            0.0   \n",
       "10521321  2010     ME      990       P75          0.0            0.0   \n",
       "20705535  2010     MA      990       V24          5.0            0.0   \n",
       "60867533  2010     MD      990       S03          0.0            0.0   \n",
       "111773894 2010     NY      990       J40         14.0            0.0   \n",
       "\n",
       "                 TOTALREVCURRENT  TOTALEXPCURRENT  REVLESSEXPCURRENT  \\\n",
       "EIN       FISYR                                                        \n",
       "10360501  2010           41637.0        1655148.0         -1613511.0   \n",
       "10521321  2010               0.0              0.0                0.0   \n",
       "20705535  2010          490537.0         737692.0          -247155.0   \n",
       "60867533  2010          299323.0         554207.0          -254884.0   \n",
       "111773894 2010          994557.0        2050880.0         -1056323.0   \n",
       "\n",
       "                 PREV_REVLESSEXPCURRENT  IND  \n",
       "EIN       FISYR                               \n",
       "10360501  2010                      NaN  1.0  \n",
       "10521321  2010                      NaN  1.0  \n",
       "20705535  2010                      NaN  1.0  \n",
       "60867533  2010                      NaN  1.0  \n",
       "111773894 2010                      NaN  1.0  "
      ]
     },
     "execution_count": 7,
     "metadata": {},
     "output_type": "execute_result"
    }
   ],
   "source": [
    "eins = get_ind_indices('REVLESSEXPCURRENT')\n",
    "eins.head()"
   ]
  },
  {
   "cell_type": "code",
   "execution_count": 8,
   "metadata": {
    "collapsed": true
   },
   "outputs": [],
   "source": [
    "def get_br_indices(curr_criteria):\n",
    "    broad = datafull.query('FISYR > 2009 & FISYR < 2015')\n",
    "    broad = broad[broad.FORMTYPE=='990']\n",
    "    #broad.index.names\n",
    "    \n",
    "    #broad.set_index(['STATE', 'FISYR'], inplace=True)\n",
    "    #broad.index.names\n",
    "    \n",
    "    br_curr = broad.groupby(['STATE','FISYR'])[curr_criteria].sum()\n",
    "    br_prev = br_curr.groupby(level=[0]).shift(1)\n",
    "        \n",
    "    new = pd.DataFrame()\n",
    "    new['BR_IND'] = br_curr/br_prev\n",
    "    new.BR_IND.replace(np.inf, np.nan, inplace=True)\n",
    "    new.BR_IND.replace(-1*np.inf, np.nan, inplace=True)\n",
    "    new.BR_IND.fillna(1, inplace=True)\n",
    "    return new"
   ]
  },
  {
   "cell_type": "code",
   "execution_count": 10,
   "metadata": {},
   "outputs": [
    {
     "data": {
      "text/html": [
       "<div>\n",
       "<style>\n",
       "    .dataframe thead tr:only-child th {\n",
       "        text-align: right;\n",
       "    }\n",
       "\n",
       "    .dataframe thead th {\n",
       "        text-align: left;\n",
       "    }\n",
       "\n",
       "    .dataframe tbody tr th {\n",
       "        vertical-align: top;\n",
       "    }\n",
       "</style>\n",
       "<table border=\"1\" class=\"dataframe\">\n",
       "  <thead>\n",
       "    <tr style=\"text-align: right;\">\n",
       "      <th></th>\n",
       "      <th></th>\n",
       "      <th>BR_IND</th>\n",
       "    </tr>\n",
       "    <tr>\n",
       "      <th>STATE</th>\n",
       "      <th>FISYR</th>\n",
       "      <th></th>\n",
       "    </tr>\n",
       "  </thead>\n",
       "  <tbody>\n",
       "    <tr>\n",
       "      <th rowspan=\"5\" valign=\"top\">AE</th>\n",
       "      <th>2010</th>\n",
       "      <td>1.000000</td>\n",
       "    </tr>\n",
       "    <tr>\n",
       "      <th>2011</th>\n",
       "      <td>-0.193283</td>\n",
       "    </tr>\n",
       "    <tr>\n",
       "      <th>2012</th>\n",
       "      <td>-1.322907</td>\n",
       "    </tr>\n",
       "    <tr>\n",
       "      <th>2013</th>\n",
       "      <td>-18.814302</td>\n",
       "    </tr>\n",
       "    <tr>\n",
       "      <th>2014</th>\n",
       "      <td>-0.931216</td>\n",
       "    </tr>\n",
       "  </tbody>\n",
       "</table>\n",
       "</div>"
      ],
      "text/plain": [
       "                BR_IND\n",
       "STATE FISYR           \n",
       "AE    2010    1.000000\n",
       "      2011   -0.193283\n",
       "      2012   -1.322907\n",
       "      2013  -18.814302\n",
       "      2014   -0.931216"
      ]
     },
     "execution_count": 10,
     "metadata": {},
     "output_type": "execute_result"
    }
   ],
   "source": [
    "br = get_br_indices('REVLESSEXPCURRENT')\n",
    "br.head()"
   ]
  },
  {
   "cell_type": "code",
   "execution_count": 11,
   "metadata": {
    "collapsed": true
   },
   "outputs": [],
   "source": [
    "def get_all(ind, br):\n",
    "    all = pd.merge(ind.reset_index(), br.reset_index(), how='inner', on=['STATE','FISYR']).set_index(['EIN','FISYR'])\n",
    "    #all = pd.merge(ind, br)\n",
    "    return all"
   ]
  },
  {
   "cell_type": "code",
   "execution_count": 13,
   "metadata": {},
   "outputs": [
    {
     "data": {
      "text/html": [
       "<div>\n",
       "<style>\n",
       "    .dataframe thead tr:only-child th {\n",
       "        text-align: right;\n",
       "    }\n",
       "\n",
       "    .dataframe thead th {\n",
       "        text-align: left;\n",
       "    }\n",
       "\n",
       "    .dataframe tbody tr th {\n",
       "        vertical-align: top;\n",
       "    }\n",
       "</style>\n",
       "<table border=\"1\" class=\"dataframe\">\n",
       "  <thead>\n",
       "    <tr style=\"text-align: right;\">\n",
       "      <th></th>\n",
       "      <th></th>\n",
       "      <th>STATE</th>\n",
       "      <th>FORMTYPE</th>\n",
       "      <th>NteeFinal</th>\n",
       "      <th>TOTEMPLOYEE</th>\n",
       "      <th>TOTVOLUNTEERS</th>\n",
       "      <th>TOTALREVCURRENT</th>\n",
       "      <th>TOTALEXPCURRENT</th>\n",
       "      <th>REVLESSEXPCURRENT</th>\n",
       "      <th>PREV_REVLESSEXPCURRENT</th>\n",
       "      <th>IND</th>\n",
       "      <th>BR_IND</th>\n",
       "    </tr>\n",
       "    <tr>\n",
       "      <th>EIN</th>\n",
       "      <th>FISYR</th>\n",
       "      <th></th>\n",
       "      <th></th>\n",
       "      <th></th>\n",
       "      <th></th>\n",
       "      <th></th>\n",
       "      <th></th>\n",
       "      <th></th>\n",
       "      <th></th>\n",
       "      <th></th>\n",
       "      <th></th>\n",
       "      <th></th>\n",
       "    </tr>\n",
       "  </thead>\n",
       "  <tbody>\n",
       "    <tr>\n",
       "      <th>10360501</th>\n",
       "      <th>2010</th>\n",
       "      <td>ME</td>\n",
       "      <td>990</td>\n",
       "      <td>F0122</td>\n",
       "      <td>0.0</td>\n",
       "      <td>0.0</td>\n",
       "      <td>41637.0</td>\n",
       "      <td>1655148.0</td>\n",
       "      <td>-1613511.0</td>\n",
       "      <td>NaN</td>\n",
       "      <td>1.0</td>\n",
       "      <td>1.0</td>\n",
       "    </tr>\n",
       "    <tr>\n",
       "      <th>10521321</th>\n",
       "      <th>2010</th>\n",
       "      <td>ME</td>\n",
       "      <td>990</td>\n",
       "      <td>P75</td>\n",
       "      <td>0.0</td>\n",
       "      <td>0.0</td>\n",
       "      <td>0.0</td>\n",
       "      <td>0.0</td>\n",
       "      <td>0.0</td>\n",
       "      <td>NaN</td>\n",
       "      <td>1.0</td>\n",
       "      <td>1.0</td>\n",
       "    </tr>\n",
       "    <tr>\n",
       "      <th>10018930</th>\n",
       "      <th>2010</th>\n",
       "      <td>ME</td>\n",
       "      <td>990</td>\n",
       "      <td>W30</td>\n",
       "      <td>7.0</td>\n",
       "      <td>0.0</td>\n",
       "      <td>806362.0</td>\n",
       "      <td>783045.0</td>\n",
       "      <td>23317.0</td>\n",
       "      <td>NaN</td>\n",
       "      <td>1.0</td>\n",
       "      <td>1.0</td>\n",
       "    </tr>\n",
       "    <tr>\n",
       "      <th>10029480</th>\n",
       "      <th>2010</th>\n",
       "      <td>ME</td>\n",
       "      <td>990</td>\n",
       "      <td>S41</td>\n",
       "      <td>4.0</td>\n",
       "      <td>10.0</td>\n",
       "      <td>210379.0</td>\n",
       "      <td>226794.0</td>\n",
       "      <td>-16415.0</td>\n",
       "      <td>NaN</td>\n",
       "      <td>1.0</td>\n",
       "      <td>1.0</td>\n",
       "    </tr>\n",
       "    <tr>\n",
       "      <th>10043285</th>\n",
       "      <th>2010</th>\n",
       "      <td>ME</td>\n",
       "      <td>990</td>\n",
       "      <td>S41</td>\n",
       "      <td>6.0</td>\n",
       "      <td>0.0</td>\n",
       "      <td>605748.0</td>\n",
       "      <td>605515.0</td>\n",
       "      <td>233.0</td>\n",
       "      <td>NaN</td>\n",
       "      <td>1.0</td>\n",
       "      <td>1.0</td>\n",
       "    </tr>\n",
       "  </tbody>\n",
       "</table>\n",
       "</div>"
      ],
      "text/plain": [
       "               STATE FORMTYPE NteeFinal  TOTEMPLOYEE  TOTVOLUNTEERS  \\\n",
       "EIN      FISYR                                                        \n",
       "10360501 2010     ME      990     F0122          0.0            0.0   \n",
       "10521321 2010     ME      990       P75          0.0            0.0   \n",
       "10018930 2010     ME      990       W30          7.0            0.0   \n",
       "10029480 2010     ME      990       S41          4.0           10.0   \n",
       "10043285 2010     ME      990       S41          6.0            0.0   \n",
       "\n",
       "                TOTALREVCURRENT  TOTALEXPCURRENT  REVLESSEXPCURRENT  \\\n",
       "EIN      FISYR                                                        \n",
       "10360501 2010           41637.0        1655148.0         -1613511.0   \n",
       "10521321 2010               0.0              0.0                0.0   \n",
       "10018930 2010          806362.0         783045.0            23317.0   \n",
       "10029480 2010          210379.0         226794.0           -16415.0   \n",
       "10043285 2010          605748.0         605515.0              233.0   \n",
       "\n",
       "                PREV_REVLESSEXPCURRENT  IND  BR_IND  \n",
       "EIN      FISYR                                       \n",
       "10360501 2010                      NaN  1.0     1.0  \n",
       "10521321 2010                      NaN  1.0     1.0  \n",
       "10018930 2010                      NaN  1.0     1.0  \n",
       "10029480 2010                      NaN  1.0     1.0  \n",
       "10043285 2010                      NaN  1.0     1.0  "
      ]
     },
     "execution_count": 13,
     "metadata": {},
     "output_type": "execute_result"
    }
   ],
   "source": [
    "all = get_all(eins, br)\n",
    "all.head()"
   ]
  },
  {
   "cell_type": "markdown",
   "metadata": {
    "collapsed": true
   },
   "source": []
  },
  {
   "cell_type": "code",
   "execution_count": 14,
   "metadata": {},
   "outputs": [
    {
     "data": {
      "text/plain": [
       "FrozenList(['EIN', 'FISYR'])"
      ]
     },
     "execution_count": 14,
     "metadata": {},
     "output_type": "execute_result"
    }
   ],
   "source": [
    "all.index.names"
   ]
  },
  {
   "cell_type": "code",
   "execution_count": 15,
   "metadata": {},
   "outputs": [
    {
     "data": {
      "image/png": "[encoded data removed]",
      "text/plain": [
       "<matplotlib.figure.Figure at 0x274f46a7b38>"
      ]
     },
     "metadata": {},
     "output_type": "display_data"
    }
   ],
   "source": [
    "plotdf_all = all.reset_index()\n",
    "plotdf_all.index.names\n",
    "sns.pointplot(x=\"FISYR\", y=\"BR_IND\",data=plotdf_all)\n",
    "plt.show()\n"
   ]
  },
  {
   "cell_type": "code",
   "execution_count": null,
   "metadata": {},
   "outputs": [],
   "source": []
  },
  {
   "cell_type": "code",
   "execution_count": null,
   "metadata": {
    "collapsed": true
   },
   "outputs": [],
   "source": []
  }
 ],
 "metadata": {
  "kernelspec": {
   "display_name": "Python 3",
   "language": "python",
   "name": "python3"
  },
  "language_info": {
   "codemirror_mode": {
    "name": "ipython",
    "version": 3
   },
   "file_extension": ".py",
   "mimetype": "text/x-python",
   "name": "python",
   "nbconvert_exporter": "python",
   "pygments_lexer": "ipython3",
   "version": "3.6.1"
  }
 },
 "nbformat": 4,
 "nbformat_minor": 2
}
